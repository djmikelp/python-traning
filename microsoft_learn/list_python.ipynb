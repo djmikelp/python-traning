{
 "cells": [
  {
   "cell_type": "markdown",
   "metadata": {},
   "source": [
    "## Introducing lists\n",
    "Completed\n",
    "100 XP\n",
    "1 minute\n",
    "Python has many built-in types, such as strings and integers. Python has a type for storing a collection of values: the list.\n",
    "\n",
    "## Create a list\n",
    "You create a list by assigning a sequence of values to a variable. Each value is separated by a comma and surrounded by brackets ([]). The following example stores the list of all planets in the planets variable:"
   ]
  },
  {
   "cell_type": "code",
   "execution_count": 27,
   "metadata": {},
   "outputs": [],
   "source": [
    "planets = [\"Mercury\", \"Venus\", \"Earth\", \"Mars\", \"Jupiter\", \"Saturn\", \"Uranus\", \"Neptune\"]"
   ]
  },
  {
   "cell_type": "markdown",
   "metadata": {},
   "source": [
    "## Access list items by index\n",
    "You can access any item in a list by putting the index in brackets [] after the list variable's name. Indexes start from 0, so in the following code, planets[0] is the first item in the list planets:"
   ]
  },
  {
   "cell_type": "code",
   "execution_count": 28,
   "metadata": {},
   "outputs": [
    {
     "name": "stdout",
     "output_type": "stream",
     "text": [
      "The first planet is Mercury\n",
      "The second planet is Venus\n",
      "The third planet is Earth\n"
     ]
    }
   ],
   "source": [
    "print(\"The first planet is\", planets[0])\n",
    "print(\"The second planet is\", planets[1])\n",
    "print(\"The third planet is\", planets[2])\n",
    "\n",
    "# Output\n",
    "# The first planet is Mercury\n",
    "# The second planet is Venus\n",
    "# The third planet is Earth"
   ]
  },
  {
   "cell_type": "markdown",
   "metadata": {},
   "source": [
    " Note\n",
    "\n",
    "Because all indexes start from 0, [1] is the second item, [2] is the third, and so forth.\n",
    "\n",
    "You can also modify values in a list by using an index. You do so by assigning a new value, in much the same way that you would assign a variable value. For example, you could change the name of Mars in the list to use its nickname:"
   ]
  },
  {
   "cell_type": "code",
   "execution_count": 29,
   "metadata": {},
   "outputs": [
    {
     "name": "stdout",
     "output_type": "stream",
     "text": [
      "Mars is also known as Red Planet\n"
     ]
    }
   ],
   "source": [
    "planets[3] = \"Red Planet\"\n",
    "print(\"Mars is also known as\", planets[3])\n",
    "\n",
    "# Output\n",
    "# Mars is also known as Red Planet"
   ]
  },
  {
   "cell_type": "markdown",
   "metadata": {},
   "source": [
    "## Determine the length of a list\n",
    "To get the length of a list, use the built-in function len(). The following code creates a new variable, number_of_planets. The code assigns that variable with the number of items in the list planets (8)."
   ]
  },
  {
   "cell_type": "code",
   "execution_count": 30,
   "metadata": {},
   "outputs": [
    {
     "name": "stdout",
     "output_type": "stream",
     "text": [
      "There are 8 planets in the solar system.\n"
     ]
    }
   ],
   "source": [
    "number_of_planets = len(planets)\n",
    "print(\"There are\", number_of_planets, \"planets in the solar system.\")\n",
    "\n",
    "# Output:\n",
    "# There are 8 planets in the solar system"
   ]
  },
  {
   "cell_type": "markdown",
   "metadata": {},
   "source": [
    "## Add values to lists\n",
    "Lists in Python are dynamic: you can add and remove items after they're created. To add an item to a list, use the method .append(value).\n",
    "\n",
    "For example, the following code adds the string \"Pluto\" to the end of the list planets:"
   ]
  },
  {
   "cell_type": "code",
   "execution_count": 31,
   "metadata": {},
   "outputs": [
    {
     "name": "stdout",
     "output_type": "stream",
     "text": [
      "There are actually 9 planets in the solar system.\n"
     ]
    }
   ],
   "source": [
    "planets.append(\"Pluto\")\n",
    "number_of_planets = len(planets)\n",
    "print(\"There are actually\", number_of_planets, \"planets in the solar system.\")\n",
    "\n",
    "# Output:\n",
    "# There are actually 9 planets in the solar system."
   ]
  },
  {
   "cell_type": "markdown",
   "metadata": {},
   "source": [
    "## Remove values from lists\n",
    "You can remove the last item in a list by calling the .pop() method on the list variable:"
   ]
  },
  {
   "cell_type": "code",
   "execution_count": 32,
   "metadata": {},
   "outputs": [
    {
     "name": "stdout",
     "output_type": "stream",
     "text": [
      "No, there are definitely 8 planets in the solar system.\n"
     ]
    }
   ],
   "source": [
    "planets.pop()  # Goodbye, Pluto\n",
    "number_of_planets = len(planets)\n",
    "print(\"No, there are definitely\", number_of_planets, \"planets in the solar system.\")"
   ]
  },
  {
   "cell_type": "markdown",
   "metadata": {},
   "source": [
    "## Use negative indexes\n",
    "You saw how to use indexes to fetch an individual item in a list:"
   ]
  },
  {
   "cell_type": "code",
   "execution_count": 33,
   "metadata": {},
   "outputs": [
    {
     "name": "stdout",
     "output_type": "stream",
     "text": [
      "The first planet is Mercury\n"
     ]
    }
   ],
   "source": [
    "print(\"The first planet is\", planets[0])\n",
    "\n",
    "# Output:\n",
    "# The first planet is Mercury"
   ]
  },
  {
   "cell_type": "markdown",
   "metadata": {},
   "source": [
    "Indexes start at zero and increase. Negative indexes start at the end of the list and work backward.\n",
    "\n",
    "In the following example, an index of -1 returns the last item in a list. An index of -2 returns the second to last."
   ]
  },
  {
   "cell_type": "code",
   "execution_count": 34,
   "metadata": {},
   "outputs": [
    {
     "name": "stdout",
     "output_type": "stream",
     "text": [
      "The last planet is Neptune\n",
      "The penultimate planet is Uranus\n"
     ]
    }
   ],
   "source": [
    "print(\"The last planet is\", planets[-1])\n",
    "print(\"The penultimate planet is\", planets[-2])\n",
    "\n",
    "# Output\n",
    "# The last planet is Neptune\n",
    "# The penultimate planet is Uranus"
   ]
  },
  {
   "cell_type": "markdown",
   "metadata": {},
   "source": [
    "If you wanted to return the third to last, you'd use an index of -3 (and so on)."
   ]
  },
  {
   "cell_type": "markdown",
   "metadata": {},
   "source": [
    "## Find a value in a list\n",
    "To determine where in a list a value is stored, you use the list's index method. This method searches for the value and returns the index of that item in the list. If it doesn't find a match, it returns -1.\n",
    "\n",
    "The following example shows the use of \"Jupiter\" as the index value:"
   ]
  },
  {
   "cell_type": "code",
   "execution_count": 35,
   "metadata": {},
   "outputs": [
    {
     "name": "stdout",
     "output_type": "stream",
     "text": [
      "Jupiter is the 5 planet from the sun\n"
     ]
    }
   ],
   "source": [
    "jupiter_index = planets.index(\"Jupiter\")\n",
    "print(\"Jupiter is the\", jupiter_index + 1, \"planet from the sun\")\n",
    "\n",
    "# Output\n",
    "# Jupiter is the 5 planet from the sun"
   ]
  },
  {
   "cell_type": "markdown",
   "metadata": {},
   "source": [
    " Note\n",
    "\n",
    "Because indexing starts with 0, you need to add 1 to display the proper number."
   ]
  },
  {
   "cell_type": "markdown",
   "metadata": {},
   "source": [
    "## Exercise: Use lists to store planet names\n",
    "Lists allow you to store multiple values in a single variable. In this notebook you'll create a project to display information about the planets.\n",
    "\n",
    "This exercise is broken into a series of steps. For each step you will be presented with the goal for the step, followed by an empty cell. Enter your Python into the cell and run it. The solution for each step will follow each cell.\n",
    "\n",
    "Add all planets to a list\n",
    "First, create a variable named planets. Add the eight planets (without Pluto) to the list. The planets are:\n",
    "\n",
    "* Mercury\n",
    "* Venus\n",
    "* Earth\n",
    "* Mars\n",
    "* Jupiter\n",
    "* Saturn\n",
    "* Uranus\n",
    "* Neptune\n",
    "Finish by using print to display the list of planets."
   ]
  },
  {
   "cell_type": "code",
   "execution_count": 36,
   "metadata": {},
   "outputs": [
    {
     "name": "stdout",
     "output_type": "stream",
     "text": [
      "['Mercury', 'Venus', 'Earth', 'Mars', 'Jupiter', 'Saturn', 'Uranus', 'Neptune']\n"
     ]
    }
   ],
   "source": [
    "planets = [\"Mercury\", \"Venus\", \"Earth\", \"Mars\", \"Jupiter\", \"Saturn\", \"Uranus\", \"Neptune\"]\n",
    "\n",
    "print(planets)"
   ]
  },
  {
   "cell_type": "markdown",
   "metadata": {},
   "source": [
    "Display the number of planets\n",
    "Next, display the total number of planets by using len and print."
   ]
  },
  {
   "cell_type": "code",
   "execution_count": 37,
   "metadata": {},
   "outputs": [
    {
     "name": "stdout",
     "output_type": "stream",
     "text": [
      "There are 8 planets\n"
     ]
    }
   ],
   "source": [
    "print(\"There are\", len(planets), \"planets\")"
   ]
  },
  {
   "cell_type": "markdown",
   "metadata": {},
   "source": [
    "Add a planet to the list\n",
    "Finally, add Pluto to the list that you created. Then display both the number of planets and the last planet in the list."
   ]
  },
  {
   "cell_type": "code",
   "execution_count": 38,
   "metadata": {},
   "outputs": [
    {
     "name": "stdout",
     "output_type": "stream",
     "text": [
      "Actually, there are 9 planets\n",
      "Pluto is the last planet\n"
     ]
    }
   ],
   "source": [
    "planets.append(\"Pluto\")\n",
    "\n",
    "print(\"Actually, there are\", len(planets), \"planets\")\n",
    "\n",
    "print(planets[-1], \"is the last planet\")"
   ]
  },
  {
   "cell_type": "markdown",
   "metadata": {},
   "source": [
    "## Store numbers in lists\n",
    "To store numbers with decimal places in Python, you use the float type. To create a float, you enter the number with the decimal place and assign it to a variable:"
   ]
  },
  {
   "cell_type": "code",
   "execution_count": 39,
   "metadata": {},
   "outputs": [],
   "source": [
    "gravity_on_earth = 1.0\n",
    "gravity_on_the_moon = 0.166"
   ]
  },
  {
   "cell_type": "markdown",
   "metadata": {},
   "source": [
    "The following code creates a list that shows the gravitational forces of all eight planets in the solar system, in G:"
   ]
  },
  {
   "cell_type": "code",
   "execution_count": 40,
   "metadata": {},
   "outputs": [],
   "source": [
    "gravity_on_planets = [0.378, 0.907, 1, 0.377, 2.36, 0.916, 0.889, 1.12]"
   ]
  },
  {
   "cell_type": "markdown",
   "metadata": {},
   "source": [
    "In this list, gravity_on_planets[0] is the gravity on Mercury (0.378 G), gravity_on_planets[1] is the gravity on Venus (0.907 G), and so on.\n",
    "\n",
    "On Earth, a double-decker bus weighs 12,650 kilograms (kg), which is 12.65 tonnes. On Mercury, where the gravity is 0.378 G, the same bus weighs 12.65 tonnes multiplied by 0.378. In Python, to multiply two values, you use the * symbol.\n",
    "\n",
    "In the following example, you can work out the weight of a double-decker bus on different planets by getting the value from the list:"
   ]
  },
  {
   "cell_type": "code",
   "execution_count": 41,
   "metadata": {},
   "outputs": [
    {
     "name": "stdout",
     "output_type": "stream",
     "text": [
      "On Earth, a double-decker bus weighs 12650 kg\n",
      "On Mercury, a double-decker bus weighs 4781.7 kg\n"
     ]
    }
   ],
   "source": [
    "bus_weight = 12650 # in kilograms, on Earth\n",
    "\n",
    "print(\"On Earth, a double-decker bus weighs\", bus_weight, \"kg\")\n",
    "print(\"On Mercury, a double-decker bus weighs\", bus_weight * gravity_on_planets[0], \"kg\")\n",
    "\n",
    "# Output\n",
    "# On Earth, a double-decker bus weighs 12650 kg\n",
    "# On Mercury, a double-decker bus weighs 4781.7 kg"
   ]
  },
  {
   "cell_type": "markdown",
   "metadata": {},
   "source": [
    "## Use min() and max() with lists\n",
    "Python has built-in functions for calculating the biggest and smallest numbers in a list. The max() function returns the largest number, and min() returns the smallest. So min(gravity_on_planets) returns the smallest number in the gravity_on_planets list, which is 0.377 (Mars).\n",
    "\n",
    "The following code calculates the minimum and maximum weights in the solar system by using those functions:"
   ]
  },
  {
   "cell_type": "code",
   "execution_count": 42,
   "metadata": {},
   "outputs": [
    {
     "name": "stdout",
     "output_type": "stream",
     "text": [
      "On Earth, a double-decker bus weighs 12650 kg\n",
      "The lightest a bus would be in the solar system is 4769.05 kg\n",
      "The heaviest a bus would be in the solar system is 29854.0 kg\n"
     ]
    }
   ],
   "source": [
    "bus_weight = 12650 # in kilograms, on Earth\n",
    "\n",
    "print(\"On Earth, a double-decker bus weighs\", bus_weight, \"kg\")\n",
    "print(\"The lightest a bus would be in the solar system is\", bus_weight * min(gravity_on_planets), \"kg\")\n",
    "print(\"The heaviest a bus would be in the solar system is\", bus_weight * max(gravity_on_planets), \"kg\")\n",
    "\n",
    "# Output\n",
    "# On Earth, a double-decker bus weighs 12650 kg\n",
    "# The lightest a bus would be in the solar system is 4769.05 kg\n",
    "# The heaviest a bus would be in the solar system is 29854 kg"
   ]
  },
  {
   "cell_type": "markdown",
   "metadata": {},
   "source": [
    "## Manipulate list data\n",
    "Completed\n",
    "100 XP\n",
    "1 minute\n",
    "You might need to work with different portions of a list. For example, assume that you have a list with rainfall amounts for various months. To properly analyze this type of data, you might need to look for rainfall in autumn or in a three-month period. Or you might want to sort the list in order of most rainfall to least.\n",
    "\n",
    "Python provides robust support for working with the data in lists. This support includes slicing data (examining just a portion) and sorting.\n",
    "\n",
    "## Slice lists\n",
    "You can retrieve a portion of a list by using a slice. A slice uses brackets, but instead of a single item, it has the starting and ending indexes. When you use a slice, you create a new list that starts at the starting index and that ends before (and does not include) the ending index.\n",
    "\n",
    "The list of planets has eight items. Earth is the third in the list. To get the planets before Earth, use a slice to get items starting at 0 and ending at 2:"
   ]
  },
  {
   "cell_type": "code",
   "execution_count": 43,
   "metadata": {},
   "outputs": [
    {
     "name": "stdout",
     "output_type": "stream",
     "text": [
      "['Mercury', 'Venus']\n"
     ]
    }
   ],
   "source": [
    "planets = [\"Mercury\", \"Venus\", \"Earth\", \"Mars\", \"Jupiter\", \"Saturn\", \"Uranus\", \"Neptune\"]\n",
    "planets_before_earth = planets[0:2]\n",
    "print(planets_before_earth)\n",
    "\n",
    "# Output: ['Mercury', 'Venus']"
   ]
  },
  {
   "cell_type": "markdown",
   "metadata": {},
   "source": [
    "Notice how Earth is not included in the list. The reason is that the index ends before the ending index.\n",
    "\n",
    "To get all the planets after Earth, start at the third and go to the eighth:"
   ]
  },
  {
   "cell_type": "code",
   "execution_count": 44,
   "metadata": {},
   "outputs": [
    {
     "name": "stdout",
     "output_type": "stream",
     "text": [
      "['Mars', 'Jupiter', 'Saturn', 'Uranus', 'Neptune']\n"
     ]
    }
   ],
   "source": [
    "planets_after_earth = planets[3:8]\n",
    "print(planets_after_earth) \n",
    "\n",
    "# Output\n",
    "# ['Mars', 'Jupiter', 'Saturn', 'Uranus', 'Neptune']"
   ]
  },
  {
   "cell_type": "markdown",
   "metadata": {},
   "source": [
    "In this example, Neptune is displayed. The reason is that the index for Neptune is 7, because indexing starts at 0. Because the ending index was 8, it includes the last value. If you don't put the stopping index in the slice, Python assumes that you want to go to the end of the list:"
   ]
  },
  {
   "cell_type": "code",
   "execution_count": 45,
   "metadata": {},
   "outputs": [
    {
     "name": "stdout",
     "output_type": "stream",
     "text": [
      "['Mars', 'Jupiter', 'Saturn', 'Uranus', 'Neptune']\n"
     ]
    }
   ],
   "source": [
    "planets_after_earth = planets[3:]\n",
    "print(planets_after_earth)\n",
    "\n",
    "# Output\n",
    "# ['Mars', 'Jupiter', 'Saturn', 'Uranus', 'Neptune']"
   ]
  },
  {
   "cell_type": "markdown",
   "metadata": {},
   "source": [
    " Important\n",
    "\n",
    "A slice creates a new list. It doesn't modify the current list."
   ]
  },
  {
   "cell_type": "markdown",
   "metadata": {},
   "source": [
    "## Join lists\n",
    "You've seen how you can use slices to split up lists, but what about joining them back together?\n",
    "\n",
    "To join two lists, you use the other operator (+) with two lists to return a new list.\n",
    "\n",
    "There are 79 known moons of Jupiter. The four largest are Io, Europa, Ganymede, and Callisto. These are called the Galilean moons, because Galileo Galilei discovered them by using his telescope in 1610. Closer to Jupiter than the Galilean group is the Amalthea group. It consists of the moons Metis, Adrastea, Amalthea, and Thebe.\n",
    "\n",
    "Create two lists. Populate the first list with the four Amalthea moons and the second list with the four Galilean moons. Join them together by using + to make a new list:"
   ]
  },
  {
   "cell_type": "code",
   "execution_count": 46,
   "metadata": {},
   "outputs": [
    {
     "name": "stdout",
     "output_type": "stream",
     "text": [
      "The regular satellite moons of Jupiter are ['Metis', 'Adrastea', 'Amalthea', 'Thebe', 'Io', 'Europa', 'Ganymede', 'Callisto']\n"
     ]
    }
   ],
   "source": [
    "amalthea_group = [\"Metis\", \"Adrastea\", \"Amalthea\", \"Thebe\"]\n",
    "galilean_moons = [\"Io\", \"Europa\", \"Ganymede\", \"Callisto\"]\n",
    "\n",
    "regular_satellite_moons = amalthea_group + galilean_moons\n",
    "print(\"The regular satellite moons of Jupiter are\", regular_satellite_moons)\n",
    "\n",
    "# Output\n",
    "# The regular satellite moons of Jupiter are ['Metis', 'Adrastea', 'Amalthea', 'Thebe', 'Io', 'Europa', 'Ganymede', 'Callisto']"
   ]
  },
  {
   "cell_type": "markdown",
   "metadata": {},
   "source": [
    " Important\n",
    "\n",
    "Joining lists creates a new list. It doesn't modify the current list."
   ]
  },
  {
   "cell_type": "markdown",
   "metadata": {},
   "source": [
    "## Sort lists\n",
    "To sort a list, use the .sort() method on the list. Python will sort a list of strings in alphabetical order and a list of numbers in numeric order:"
   ]
  },
  {
   "cell_type": "code",
   "execution_count": 47,
   "metadata": {},
   "outputs": [
    {
     "name": "stdout",
     "output_type": "stream",
     "text": [
      "The regular satellite moons of Jupiter are ['Adrastea', 'Amalthea', 'Callisto', 'Europa', 'Ganymede', 'Io', 'Metis', 'Thebe']\n"
     ]
    }
   ],
   "source": [
    "regular_satellite_moons.sort()\n",
    "print(\"The regular satellite moons of Jupiter are\", regular_satellite_moons)\n",
    "\n",
    "# Output\n",
    "# The regular satellite moons of Jupiter are ['Adrastea', 'Amalthea', 'Callisto', 'Europa', 'Ganymede', 'Io', 'Metis', 'Thebe']"
   ]
  },
  {
   "cell_type": "markdown",
   "metadata": {},
   "source": [
    "To sort a list in reverse order, call .sort(reverse=True) on the list:"
   ]
  },
  {
   "cell_type": "code",
   "execution_count": 48,
   "metadata": {},
   "outputs": [
    {
     "name": "stdout",
     "output_type": "stream",
     "text": [
      "The regular satellite moons of Jupiter are ['Thebe', 'Metis', 'Io', 'Ganymede', 'Europa', 'Callisto', 'Amalthea', 'Adrastea']\n"
     ]
    }
   ],
   "source": [
    "regular_satellite_moons.sort(reverse=True)\n",
    "print(\"The regular satellite moons of Jupiter are\", regular_satellite_moons)\n",
    "\n",
    "# Output\n",
    "# The regular satellite moons of Jupiter are ['Thebe', 'Metis', 'Io', 'Ganymede', 'Europa', 'Callisto', 'Amalthea', 'Adrastea']"
   ]
  },
  {
   "cell_type": "markdown",
   "metadata": {},
   "source": [
    " Important\n",
    "\n",
    "Using sort modifies the current list."
   ]
  },
  {
   "cell_type": "markdown",
   "metadata": {},
   "source": [
    "## Use slices to retrieve portions of a list\n",
    "You might need to work different sections of a list. In this notebook, you will create a project to display planets closer to and farther away from the sun than a planet that the user enters.\n",
    "\n",
    "This exercise is broken into a series of steps. For each step you will be presented with the goal for the step, followed by an empty cell. Enter your Python into the cell and run it. The solution for each step will follow each cell.\n",
    "\n",
    "Create the list of planets\n",
    "First, create a variable named planets. Add the eight planets (without Pluto) to the list. The planets are:\n",
    "\n",
    "* Mercury\n",
    "* Venus\n",
    "* Earth\n",
    "* Mars\n",
    "* Jupiter\n",
    "* Saturn\n",
    "* Uranus\n",
    "* Neptune"
   ]
  },
  {
   "cell_type": "code",
   "execution_count": 59,
   "metadata": {},
   "outputs": [
    {
     "name": "stdout",
     "output_type": "stream",
     "text": [
      "Here are the planets closer than Mars\n",
      "['Mercury', 'Venus', 'Earth']\n",
      "Here are the planets further than Mars\n",
      "['Jupiter', 'Saturn', 'Neptune']\n"
     ]
    }
   ],
   "source": [
    "planets = [\"Mercury\", \"Venus\", \"Earth\", \"Mars\", \"Jupiter\", \"Saturn\", \"Neptune\"]\n",
    "user_planet = input(\"Please enter the name of the planet (with a capital letter to start)\")\n",
    "planet_index = planets.index(user_planet)\n",
    "print(\"Here are the planets closer than \" + user_planet)\n",
    "print(planets[0:planet_index])\n",
    "print(\"Here are the planets further than \" + user_planet)\n",
    "print(planets[planet_index + 1:])"
   ]
  }
 ],
 "metadata": {
  "kernelspec": {
   "display_name": "Python 3.10.7 64-bit",
   "language": "python",
   "name": "python3"
  },
  "language_info": {
   "codemirror_mode": {
    "name": "ipython",
    "version": 3
   },
   "file_extension": ".py",
   "mimetype": "text/x-python",
   "name": "python",
   "nbconvert_exporter": "python",
   "pygments_lexer": "ipython3",
   "version": "3.10.7"
  },
  "orig_nbformat": 4,
  "vscode": {
   "interpreter": {
    "hash": "6c32dbc7c05ad5f3c68dcc7b95560371c17f323899af461511fd225478ef93f6"
   }
  }
 },
 "nbformat": 4,
 "nbformat_minor": 2
}
